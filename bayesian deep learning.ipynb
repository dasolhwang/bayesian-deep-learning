{
 "cells": [
  {
   "cell_type": "code",
   "execution_count": null,
   "metadata": {},
   "outputs": [],
   "source": [
    "%matplotlib inline\n",
    "import pymc3 as pm\n",
    "import theano.tensor as T\n",
    "import theano\n",
    "import sklearn\n",
    "import numpy as np\n",
    "import matplotlib.pyplot as plt\n",
    "import seaborn as sns\n",
    "sns.set_style('white')\n",
    "from sklearn import datasets\n",
    "from sklearn.preprocessing import scale\n",
    "from sklearn.cross_validation import train_test_split\n",
    "from sklearn.datasets import make_moons"
   ]
  },
  {
   "cell_type": "code",
   "execution_count": 4,
   "metadata": {},
   "outputs": [
    {
     "data": {
      "text/plain": [
       "<matplotlib.collections.PathCollection at 0x1c114fbb38>"
      ]
     },
     "execution_count": 4,
     "metadata": {},
     "output_type": "execute_result"
    },
    {
     "data": {
      "image/png": "[encoded data removed]",
      "text/plain": [
       "<matplotlib.figure.Figure at 0x106ef19b0>"
      ]
     },
     "metadata": {},
     "output_type": "display_data"
    }
   ],
   "source": [
    "X, Y = sklearn.datasets.make_blobs(centers=2, random_state=3)\n",
    "X = scale(X)\n",
    "plt.scatter(X[:, 0], X[:, 1])"
   ]
  },
  {
   "cell_type": "code",
   "execution_count": 7,
   "metadata": {},
   "outputs": [],
   "source": [
    "X_unc = np.ones_like(X) * 1.\n",
    "X_unc[:, 0] = .5"
   ]
  },
  {
   "cell_type": "code",
   "execution_count": 8,
   "metadata": {},
   "outputs": [
    {
     "ename": "NameError",
     "evalue": "name 'prob' is not defined",
     "output_type": "error",
     "traceback": [
      "\u001b[0;31m---------------------------------------------------------------------------\u001b[0m",
      "\u001b[0;31mNameError\u001b[0m                                 Traceback (most recent call last)",
      "\u001b[0;32m<ipython-input-8-dc1a2d300392>\u001b[0m in \u001b[0;36m<module>\u001b[0;34m()\u001b[0m\n\u001b[0;32m----> 1\u001b[0;31m \u001b[0mprob\u001b[0m\u001b[0;34m.\u001b[0m\u001b[0mtag\u001b[0m\u001b[0;34m.\u001b[0m\u001b[0mtest_value\u001b[0m\u001b[0;34m.\u001b[0m\u001b[0mshape\u001b[0m\u001b[0;34m\u001b[0m\u001b[0m\n\u001b[0m",
      "\u001b[0;31mNameError\u001b[0m: name 'prob' is not defined"
     ]
    }
   ],
   "source": [
    "prob.tag.test_value.shape"
   ]
  },
  {
   "cell_type": "code",
   "execution_count": 10,
   "metadata": {},
   "outputs": [
    {
     "data": {
      "text/plain": [
       "(100, 2)"
      ]
     },
     "execution_count": 10,
     "metadata": {},
     "output_type": "execute_result"
    }
   ],
   "source": [
    "prob.tag.test_value.shape"
   ]
  },
  {
   "cell_type": "code",
   "execution_count": 11,
   "metadata": {},
   "outputs": [
    {
     "name": "stderr",
     "output_type": "stream",
     "text": [
      "Average Loss = 18.646: 100%|██████████| 50000/50000 [00:36<00:00, 1370.77it/s]\n",
      "Finished [100%]: Average Loss = 18.653\n"
     ]
    },
    {
     "ename": "NameError",
     "evalue": "name 'grid_2d' is not defined",
     "output_type": "error",
     "traceback": [
      "\u001b[0;31m---------------------------------------------------------------------------\u001b[0m",
      "\u001b[0;31mNameError\u001b[0m                                 Traceback (most recent call last)",
      "\u001b[0;32m<ipython-input-11-04e1b99034f7>\u001b[0m in \u001b[0;36m<module>\u001b[0;34m()\u001b[0m\n\u001b[1;32m     11\u001b[0m                         callbacks=[pm.callbacks.CheckParametersConvergence(diff='relative')])\n\u001b[1;32m     12\u001b[0m \u001b[0;34m\u001b[0m\u001b[0m\n\u001b[0;32m---> 13\u001b[0;31m     \u001b[0mout_sample\u001b[0m \u001b[0;34m=\u001b[0m \u001b[0;34m(\u001b[0m\u001b[0mmean_field\u001b[0m\u001b[0;34m.\u001b[0m\u001b[0msample_node\u001b[0m\u001b[0;34m(\u001b[0m\u001b[0mprob\u001b[0m\u001b[0;34m,\u001b[0m \u001b[0msize\u001b[0m\u001b[0;34m=\u001b[0m\u001b[0;36m100\u001b[0m\u001b[0;34m,\u001b[0m \u001b[0mmore_replacements\u001b[0m\u001b[0;34m=\u001b[0m\u001b[0;34m{\u001b[0m\u001b[0minputs\u001b[0m\u001b[0;34m:\u001b[0m \u001b[0mgrid_2d\u001b[0m\u001b[0;34m}\u001b[0m\u001b[0;34m)\u001b[0m \u001b[0;34m>\u001b[0m \u001b[0;36m.5\u001b[0m\u001b[0;34m)\u001b[0m\u001b[0;34m\u001b[0m\u001b[0m\n\u001b[0m",
      "\u001b[0;31mNameError\u001b[0m: name 'grid_2d' is not defined"
     ]
    }
   ],
   "source": [
    "with pm.Model() as logistic_regression:\n",
    "    inputs = pm.Normal('inputs', mu=X, sd=X_unc, shape=X.shape)\n",
    "    coeffs = pm.Normal('beta', mu=0, sd=1, shape=2)\n",
    "    \n",
    "    linear = pm.math.dot(inputs, coeffs)\n",
    "    prob = pm.math.sigmoid(linear)\n",
    "    obs = pm.Bernoulli('obs', p=prob, observed=Y)\n",
    "    \n",
    "    # Run ADVI which returns posterior means, standard deviations, and the evidence lower bound (ELBO)\n",
    "    mean_field = pm.fit(method='advi', n=50000,\n",
    "                        callbacks=[pm.callbacks.CheckParametersConvergence(diff='relative')])\n",
    "    \n",
    "    out_sample = (mean_field.sample_node(prob, size=100, more_replacements={inputs: grid_2d}) > .5)"
   ]
  },
  {
   "cell_type": "code",
   "execution_count": null,
   "metadata": {},
   "outputs": [],
   "source": [
    "cmap = sns.diverging_palette(250, 12, s=85, l=25, as_cmap=True)\n",
    "fig, ax = plt.subplots(figsize=(10, 6))\n",
    "#contour = ax.contourf(X1_grid, X2_grid, out_sample.eval().std(axis=0).reshape(100, 100), cmap=cmap)\n",
    "contour = ax.contourf(X1_grid, X2_grid, out_sample.eval().mean(axis=0).reshape(100, 100), cmap=cmap)\n",
    "ax.scatter(X[Y==0, 0], X[Y==0, 1])\n",
    "ax.scatter(X[Y==1, 0], X[Y==1, 1], color='r')\n",
    "cbar = plt.colorbar(contour, ax=ax)\n",
    "_ = ax.set(xlim=(-3, 3), ylim=(-3, 3), xlabel='X1', ylabel='X2');\n",
    "cbar.ax.set_ylabel('Posterior predictive mean probability of class label = 0');"
   ]
  },
  {
   "cell_type": "code",
   "execution_count": null,
   "metadata": {},
   "outputs": [],
   "source": [
    "cmap = sns.choose_light_palette(250, 12)#, as_cmap=True)#, s=85, l=25, as_cmap=True)\n",
    "fig, ax = plt.subplots(figsize=(10, 6))\n",
    "contour = ax.contourf(X1_grid, X2_grid, out_sample.eval().std(axis=0).reshape(100, 100), cmap=cmap)\n",
    "#contour = ax.contourf(X1_grid, X2_grid, out_sample.eval().mean(axis=0).reshape(100, 100), cmap=cmap)\n",
    "ax.scatter(X[Y==0, 0], X[Y==0, 1])\n",
    "ax.scatter(X[Y==1, 0], X[Y==1, 1], color='r')\n",
    "cbar = plt.colorbar(contour, ax=ax)\n",
    "_ = ax.set(xlim=(-3, 3), ylim=(-3, 3), xlabel='X1', ylabel='X2');\n",
    "cbar.ax.set_ylabel('Posterior predictive mean probability of class label = 0');"
   ]
  },
  {
   "cell_type": "code",
   "execution_count": null,
   "metadata": {},
   "outputs": [],
   "source": [
    "X, Y = make_moons(noise=0.2, random_state=0, n_samples=1000)\n",
    "X = scale(X)\n",
    "def uncertainty_surf(x, a=(2, 3), b=(.2, .3), min_val=.1):\n",
    "    out_1 = a[0] + x[:, 0] * b[0] \n",
    "    out_2 = a[1] + x[:, 1] * b[1]\n",
    "    out_1[out_1 < min_val] = min_val\n",
    "    out_2[out_2 < min_val] = min_val\n",
    "    return np.dstack([out_1, out_2])[0, ...]\n",
    "X.shape"
   ]
  },
  {
   "cell_type": "code",
   "execution_count": null,
   "metadata": {},
   "outputs": [],
   "source": [
    "X_uc = uncertainty_surf(X)\n",
    "X_uc.shape\n",
    "(1000, 2)\n",
    "fig, ax = plt.subplots()\n",
    "ax.scatter(X[Y==0, 0], X[Y==0, 1], label='Y=0')\n",
    "ax.scatter(X[Y==1, 0], X[Y==1, 1], color='r', label='Y=1')\n",
    "sns.despine(); ax.legend()\n",
    "ax.set(xlabel='X1', ylabel='X2', title='Toy binary classification data set');"
   ]
  },
  {
   "cell_type": "code",
   "execution_count": null,
   "metadata": {},
   "outputs": [],
   "source": [
    "X_uc"
   ]
  },
  {
   "cell_type": "code",
   "execution_count": null,
   "metadata": {},
   "outputs": [],
   "source": [
    "plt.plot(X[:, 0], X_uc[:, 0])"
   ]
  },
  {
   "cell_type": "code",
   "execution_count": null,
   "metadata": {},
   "outputs": [],
   "source": [
    "fig, ax = plt.subplots()\n",
    "ax.scatter(X[:, 0], X[:, 1], linewidths=X_uc[])\n",
    "sns.despine(); ax.legend()\n",
    "ax.set(xlabel='X1', ylabel='X2', title='Toy binary classification data set');"
   ]
  },
  {
   "cell_type": "code",
   "execution_count": null,
   "metadata": {},
   "outputs": [],
   "source": [
    "out_sample.eval().shape\n"
   ]
  },
  {
   "cell_type": "code",
   "execution_count": null,
   "metadata": {},
   "outputs": [],
   "source": [
    "n_hidden = 5\n",
    "\n",
    "# Initialize random weights between each layer\n",
    "init_1 = np.random.randn(X.shape[1], n_hidden)\n",
    "init_2 = np.random.randn(n_hidden, n_hidden)\n",
    "init_out = np.random.randn(n_hidden)\n",
    "\n",
    "#input_dist = theano.shared(X)\n",
    "\n",
    "with pm.Model() as neural_network:\n",
    "    input_dist = pm.Normal('inputs', mu=X, sd=X_uc*.1, \n",
    "                           shape=X.shape)\n",
    "    \n",
    "    # Weights from input to hidden layer\n",
    "    weights_in_1 = pm.Normal('w_in_1', 0, sd=1, \n",
    "                             shape=(X.shape[1], n_hidden), \n",
    "                             testval=init_1)\n",
    "    \n",
    "    # Weights from 1st to 2nd layer\n",
    "    weights_1_2 = pm.Normal('w_1_2', 0, sd=1, \n",
    "                            shape=(n_hidden, n_hidden), \n",
    "                            testval=init_2)\n",
    "    \n",
    "    # Weights from hidden lay2er to output\n",
    "    weights_2_out = pm.Normal('w_2_out', 0, sd=1, \n",
    "                              shape=(n_hidden,), \n",
    "                              testval=init_out)\n",
    "    \n",
    "    # Build neural-network using tanh activation function\n",
    "    act_1 = T.tanh(T.dot(input_dist, \n",
    "                         weights_in_1))\n",
    "    act_2 = T.tanh(T.dot(act_1, \n",
    "                         weights_1_2))\n",
    "    act_out = T.nnet.sigmoid(T.dot(act_2, \n",
    "                                   weights_2_out))\n",
    "    \n",
    "    # Binary classification -> Bernoulli likelihood\n",
    "    out = pm.Bernoulli('out', \n",
    "                       act_out,\n",
    "                       observed=Y)"
   ]
  },
  {
   "cell_type": "code",
   "execution_count": null,
   "metadata": {},
   "outputs": [],
   "source": [
    "with neural_network:\n",
    "    # Run ADVI which returns posterior means, standard deviations, and the evidence lower bound (ELBO)\n",
    "    mean_field = pm.fit(method='advi', n=50000,\n",
    "                        callbacks=[pm.callbacks.CheckParametersConvergence(diff='relative')])"
   ]
  },
  {
   "cell_type": "code",
   "execution_count": null,
   "metadata": {},
   "outputs": [],
   "source": [
    "plt.plot(mean_field.hist);"
   ]
  },
  {
   "cell_type": "code",
   "execution_count": null,
   "metadata": {},
   "outputs": [],
   "source": [
    "grid = np.mgrid[-3:3:100j,-3:3:100j]\n",
    "grid_2d = grid.reshape(2, -1).T\n",
    "X1_grid, X2_grid = grid\n",
    "with neural_network:\n",
    "    out_sample = (mean_field.sample_node(act_out, size=100, more_replacements={input_dist: grid_2d}) > .5)\n",
    "out_sample.eval().std(axis=0)"
   ]
  },
  {
   "cell_type": "code",
   "execution_count": null,
   "metadata": {},
   "outputs": [],
   "source": [
    "cmap = sns.diverging_palette(250, 12, s=85, l=25, as_cmap=True)\n",
    "fig, ax = plt.subplots(figsize=(10, 6))\n",
    "contour = ax.contourf(X1_grid, X2_grid, out_sample.eval().std(axis=0).reshape(100, 100), cmap=cmap)\n",
    "#contour = ax.contourf(X1_grid, X2_grid, out_sample.eval().mean(axis=0).reshape(100, 100), cmap=cmap)\n",
    "ax.scatter(X[Y==0, 0], X[Y==0, 1])\n",
    "ax.scatter(X[Y==1, 0], X[Y==1, 1], color='r')\n",
    "cbar = plt.colorbar(contour, ax=ax)\n",
    "_ = ax.set(xlim=(-3, 3), ylim=(-3, 3), xlabel='X', ylabel='Y');\n",
    "cbar.ax.set_ylabel('Posterior predictive mean probability of class label = 0');"
   ]
  },
  {
   "cell_type": "code",
   "execution_count": null,
   "metadata": {},
   "outputs": [],
   "source": [
    "trace = mean_field.sample(100)\n",
    "with neural_network:\n",
    "    ppc = pm.sample_ppc(trace);"
   ]
  },
  {
   "cell_type": "code",
   "execution_count": null,
   "metadata": {},
   "outputs": [],
   "source": [
    "ppc['out']"
   ]
  },
  {
   "cell_type": "code",
   "execution_count": null,
   "metadata": {},
   "outputs": [],
   "source": [
    "fig, ax = plt.subplots(figsize=(10, 6))\n",
    "#ax.scatter(X[Y==0, 0], X[Y==0, 1])\n",
    "#ax.scatter(X[Y==1, 0], X[Y==1, 1], color='r')\n",
    "ax.scatter(X[:, 0], X[:, 1], linewidths=out_sample.eval().std(axis=1) * 10)"
   ]
  },
  {
   "cell_type": "code",
   "execution_count": null,
   "metadata": {},
   "outputs": [],
   "source": [
    "Y_pred = np.mean(out_sample.eval(), axis=0)\n",
    "out_sample.eval().std(axis=1).shape"
   ]
  },
  {
   "cell_type": "code",
   "execution_count": null,
   "metadata": {},
   "outputs": [],
   "source": [
    "with neural_network:\n",
    "    mean_field = pm.fit(method='advi', n=50000,\n",
    "                       callbacks=[pm.callbacks.CheckParametersConvergence(diff='relative')])\n",
    "    approx = inference.approx\n",
    "    test_probs = approx.sample_node(act_out, more_replacements={Xt: grid_2d})\n",
    "    eval_tracker = pm.callbacks.Tracker(\n",
    "        test_probs=test_probs.eval,\n",
    "    )\n",
    "    inference.fit(method='advi', n=50000,\n",
    "                  callbacks=[pm.callbacks.CheckParametersConvergence(diff='relative'),\n",
    "                             eval_tracker])\n",
    "with neural_network:\n",
    "    inference = pm.ADVI()\n",
    "    approx = inference.approx\n",
    "    test_probs = approx.sample_node(p, more_replacements={Xt: grid_2d})\n",
    "    eval_tracker = pm.callbacks.Tracker(\n",
    "        test_probs=test_probs.eval,\n",
    "    )\n",
    "    inference.fit(method='advi', n=50000,\n",
    "                  callbacks=[pm.callbacks.CheckParametersConvergence(diff='relative'),\n",
    "                             eval_tracker])"
   ]
  },
  {
   "cell_type": "code",
   "execution_count": null,
   "metadata": {},
   "outputs": [],
   "source": []
  },
  {
   "cell_type": "code",
   "execution_count": null,
   "metadata": {},
   "outputs": [],
   "source": []
  }
 ],
 "metadata": {
  "kernelspec": {
   "display_name": "Python 3",
   "language": "python",
   "name": "python3"
  },
  "language_info": {
   "codemirror_mode": {
    "name": "ipython",
    "version": 3
   },
   "file_extension": ".py",
   "mimetype": "text/x-python",
   "name": "python",
   "nbconvert_exporter": "python",
   "pygments_lexer": "ipython3",
   "version": "3.6.4"
  }
 },
 "nbformat": 4,
 "nbformat_minor": 2
}
